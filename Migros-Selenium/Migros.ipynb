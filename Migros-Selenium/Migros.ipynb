{
 "cells": [
  {
   "cell_type": "code",
   "execution_count": 9,
   "metadata": {},
   "outputs": [],
   "source": [
    "# 1. kütüphaneler\n",
    "from selenium import webdriver\n",
    "from time import sleep\n",
    "import matplotlib.pyplot as plt\n",
    "import pandas as pd\n",
    "import seaborn as sns"
   ]
  },
  {
   "cell_type": "code",
   "execution_count": 10,
   "metadata": {},
   "outputs": [],
   "source": [
    "# web driver yüklenmesi (chrome 106 için)\n",
    "driver = webdriver.Chrome(executable_path=\"C:/Users/Vedat/anaconda3/chromedriver.exe\")"
   ]
  },
  {
   "cell_type": "code",
   "execution_count": 11,
   "metadata": {},
   "outputs": [],
   "source": [
    "migros_arama = \"Nescafe Gold Ekonomik Paket\""
   ]
  },
  {
   "cell_type": "code",
   "execution_count": 12,
   "metadata": {},
   "outputs": [],
   "source": [
    "# site adresine gidelim\n",
    "driver.get(\"https://www.migros.com.tr\")\n",
    "sleep(5)"
   ]
  },
  {
   "cell_type": "code",
   "execution_count": 13,
   "metadata": {},
   "outputs": [],
   "source": [
    "# PopUp mesajı kapat\n",
    "driver.find_element_by_xpath('//*[@id=\"close-modal\"]')\\\n",
    "    .click()\n",
    "sleep(5)"
   ]
  },
  {
   "cell_type": "code",
   "execution_count": 14,
   "metadata": {},
   "outputs": [],
   "source": [
    "# cookie kapat (eğer varsa)\n",
    "driver.find_element_by_xpath('/html/body/sm-root/div/fe-product-cookie-indicator/div/div/button[2]')\\\n",
    "    .click()\n",
    "sleep(5)"
   ]
  },
  {
   "cell_type": "code",
   "execution_count": 15,
   "metadata": {},
   "outputs": [],
   "source": [
    "# arama kutusu\n",
    "driver.find_element_by_xpath('//*[@id=\"product-search-combobox--trigger\"]')\\\n",
    "    .send_keys(migros_arama)\n",
    "sleep(5)"
   ]
  },
  {
   "cell_type": "code",
   "execution_count": 16,
   "metadata": {},
   "outputs": [],
   "source": [
    "# arama butonuna bas\n",
    "driver.find_element_by_xpath('//*[@id=\"product-search-combobox-search-right-button\"]')\\\n",
    "    .click()\n",
    "sleep(5)"
   ]
  },
  {
   "cell_type": "code",
   "execution_count": 17,
   "metadata": {},
   "outputs": [],
   "source": [
    "item_titles = driver.find_elements_by_xpath('//mat-card/div/a')\n",
    "item_prices = driver.find_elements_by_xpath('/html/body/sm-root/div/main/sm-product/article/sm-list/div/div[4]/div[2]/div[4]/sm-list-page-item[*]/mat-card/div[2]/fe-product-price/div/div/span')\n",
    "titles_list = []\n",
    "prices_list = []"
   ]
  },
  {
   "cell_type": "code",
   "execution_count": 19,
   "metadata": {},
   "outputs": [
    {
     "name": "stdout",
     "output_type": "stream",
     "text": [
      "['Nescafe Gold Ekonomik Paket 150 G', 'Nescafe Gold Ekonomik Paket 180 G', 'Nescafe Gold Ekonomik Paket 200 G', 'Nescafe Gold 50 G Ekonomik Paket', 'Nescafe Gold Espresso Ekonomik Paket 80 G', 'Nescafe Gold Alta Rica Ekonomik Paket 70 G', 'Nescafe Gold Cap Colombia Ekonomik Paket 70 G']\n",
      "['81,90 TL', '81,90 TL', '108,90 TL', '27,90 TL', '42,90 TL']\n"
     ]
    }
   ],
   "source": [
    "# for döngüsü ile ürünlerin ad ve fiyat bilgilerini alma\n",
    "\n",
    "for title in item_titles:\n",
    "    titles_list.append(title.text)\n",
    "\n",
    "for prices in item_prices:\n",
    "    prices_list.append(prices.text)\n",
    "\n",
    "print(titles_list)\n",
    "print(prices_list)\n"
   ]
  },
  {
   "cell_type": "code",
   "execution_count": 30,
   "metadata": {},
   "outputs": [
    {
     "name": "stdout",
     "output_type": "stream",
     "text": [
      "                                    Ürün Adı  Fiyat  Mağaza\n",
      "0          Nescafe Gold Ekonomik Paket 150 G   81.9  Migros\n",
      "1          Nescafe Gold Ekonomik Paket 180 G   81.9  Migros\n",
      "2          Nescafe Gold Ekonomik Paket 200 G  108.9  Migros\n",
      "3           Nescafe Gold 50 G Ekonomik Paket   27.9  Migros\n",
      "4  Nescafe Gold Espresso Ekonomik Paket 80 G   42.9  Migros\n"
     ]
    }
   ],
   "source": [
    "# Dataframe oluşturalım.\n",
    "dfM = pd.DataFrame(zip(titles_list, prices_list), columns=[\"Ürün Adı\", \"Fiyat\"])\n",
    "dfM[\"Fiyat\"] = dfM[\"Fiyat\"].str.replace(\",\", \".\")\n",
    "dfM[\"Fiyat\"] = dfM[\"Fiyat\"].str.replace(\" TL\", \"\").astype(float)\n",
    "dfM[\"Mağaza\"] = \"Migros\"\n",
    "print(dfM)"
   ]
  },
  {
   "cell_type": "code",
   "execution_count": 31,
   "metadata": {},
   "outputs": [
    {
     "data": {
      "image/png": "[encoded data removed]",
      "text/plain": [
       "<Figure size 432x288 with 1 Axes>"
      ]
     },
     "metadata": {},
     "output_type": "display_data"
    }
   ],
   "source": [
    "# Grafik alalım\n",
    "sns.set()\n",
    "sns.boxplot(x = \"Mağaza\", y = \"Fiyat\", data = dfM)\n",
    "plt.title(\"Nexcafe Gold Ekonomk Paket Fiyat Analizi\")\n",
    "plt.ylabel(\"Fiyat (TL)\")\n",
    "plt.xlabel(\"Migros Sanal Market\")\n",
    "plt.show()"
   ]
  }
 ],
 "metadata": {
  "kernelspec": {
   "display_name": "Python 3.9.7 ('base')",
   "language": "python",
   "name": "python3"
  },
  "language_info": {
   "codemirror_mode": {
    "name": "ipython",
    "version": 3
   },
   "file_extension": ".py",
   "mimetype": "text/x-python",
   "name": "python",
   "nbconvert_exporter": "python",
   "pygments_lexer": "ipython3",
   "version": "3.9.7"
  },
  "orig_nbformat": 4,
  "vscode": {
   "interpreter": {
    "hash": "a27ee10d7e583a3809802baff944acbdb59b53f6f23a6232f6abe087b6b9564e"
   }
  }
 },
 "nbformat": 4,
 "nbformat_minor": 2
}
