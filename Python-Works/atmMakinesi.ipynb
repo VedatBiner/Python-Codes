{
 "cells": [
  {
   "cell_type": "code",
   "execution_count": 1,
   "metadata": {},
   "outputs": [
    {
     "name": "stdout",
     "output_type": "stream",
     "text": [
      "\n",
      "********************************\n",
      "ATM Makinesine Hoş Geldiniz\n",
      "İşlemler:\n",
      "1. Bakiye Sorgulama\n",
      "2. Para Yatırma\n",
      "3. Para Çekme\n",
      "Q. Çıkış\n",
      "********************************\n",
      "\n"
     ]
    }
   ],
   "source": [
    "print(\"\"\"\n",
    "********************************\n",
    "ATM Makinesine Hoş Geldiniz\n",
    "İşlemler:\n",
    "1. Bakiye Sorgulama\n",
    "2. Para Yatırma\n",
    "3. Para Çekme\n",
    "Q. Çıkış\n",
    "********************************\n",
    "\"\"\")"
   ]
  },
  {
   "cell_type": "code",
   "execution_count": 3,
   "metadata": {},
   "outputs": [
    {
     "name": "stdout",
     "output_type": "stream",
     "text": [
      "Bakiyeniz 1000 TL. dir\n",
      "Bu miktarı çekemezsiniz !!!\n",
      "Geçersiz İşlem !!!\n",
      "Bu miktarı çekemezsiniz !!!\n",
      "Bu miktarı çekemezsiniz !!!\n",
      "Bakiyeniz -4200 TL. dir\n",
      "Yine bekleriz\n"
     ]
    }
   ],
   "source": [
    "bakiye = 1000\n",
    "while True:\n",
    "    islem = input(\"İşleminiz : \")\n",
    "    if (islem == \"q\"):\n",
    "        print(\"Yine bekleriz\")\n",
    "        break\n",
    "    elif (islem == \"1\"):\n",
    "        print(\"Bakiyeniz {} TL. dir\".format(bakiye))\n",
    "    elif (islem == \"2\"):\n",
    "        miktar = int(input(\"Miktarı giriniz : \"))\n",
    "        bakiye += miktar\n",
    "    elif (islem == \"3\"):\n",
    "        miktar = int(input(\"Miktarı giriniz : \"))\n",
    "        if (bakiye - miktar < 0): \n",
    "            print(\"Bu miktarı çekemezsiniz !!!\")\n",
    "        bakiye -= miktar\n",
    "    else:\n",
    "        print(\"Geçersiz İşlem !!!\")"
   ]
  },
  {
   "cell_type": "code",
   "execution_count": null,
   "metadata": {},
   "outputs": [],
   "source": []
  }
 ],
 "metadata": {
  "kernelspec": {
   "display_name": "Python 3.11.0 64-bit",
   "language": "python",
   "name": "python3"
  },
  "language_info": {
   "codemirror_mode": {
    "name": "ipython",
    "version": 3
   },
   "file_extension": ".py",
   "mimetype": "text/x-python",
   "name": "python",
   "nbconvert_exporter": "python",
   "pygments_lexer": "ipython3",
   "version": "3.11.0"
  },
  "orig_nbformat": 4,
  "vscode": {
   "interpreter": {
    "hash": "27a3c722d07504c2b02014c8c75a5e194ac8adbcd4ae880769306ad56b6ffbc9"
   }
  }
 },
 "nbformat": 4,
 "nbformat_minor": 2
}
