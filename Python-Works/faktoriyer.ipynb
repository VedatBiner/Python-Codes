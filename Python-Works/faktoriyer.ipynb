{
 "cells": [
  {
   "cell_type": "code",
   "execution_count": 1,
   "metadata": {},
   "outputs": [
    {
     "name": "stdout",
     "output_type": "stream",
     "text": [
      "Faktöriyel :  6\n",
      "Faktöriyel :  6\n",
      "Faktöriyel :  120\n",
      "Faktöriyel :  3628800\n",
      "Faktöriyel :  1307674368000\n",
      "Program tamamlandı...\n"
     ]
    }
   ],
   "source": [
    "while True:\n",
    "    sayi = input(\"Sayı : \")\n",
    "    if sayi == \"q\":\n",
    "        print(\"Program tamamlandı...\")\n",
    "        break\n",
    "    else:\n",
    "        sayi = int(sayi)\n",
    "        faktoriyel = 1\n",
    "        for i in range(2, sayi + 1):\n",
    "            faktoriyel *= i\n",
    "        print(\"Faktöriyel : \", faktoriyel)"
   ]
  }
 ],
 "metadata": {
  "kernelspec": {
   "display_name": "Python 3.11.0 64-bit",
   "language": "python",
   "name": "python3"
  },
  "language_info": {
   "codemirror_mode": {
    "name": "ipython",
    "version": 3
   },
   "file_extension": ".py",
   "mimetype": "text/x-python",
   "name": "python",
   "nbconvert_exporter": "python",
   "pygments_lexer": "ipython3",
   "version": "3.11.0"
  },
  "orig_nbformat": 4,
  "vscode": {
   "interpreter": {
    "hash": "27a3c722d07504c2b02014c8c75a5e194ac8adbcd4ae880769306ad56b6ffbc9"
   }
  }
 },
 "nbformat": 4,
 "nbformat_minor": 2
}
