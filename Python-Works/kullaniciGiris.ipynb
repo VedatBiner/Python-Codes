{
 "cells": [
  {
   "cell_type": "code",
   "execution_count": 2,
   "metadata": {},
   "outputs": [
    {
     "name": "stdout",
     "output_type": "stream",
     "text": [
      "Kullanıcı adı ve Parola Hatalı ...\n",
      "Parola Hatalı ...\n",
      "Sisteme başarıyla giriş yapıldı\n"
     ]
    }
   ],
   "source": [
    "sys_user = \"vbiner\"\n",
    "sys_password = \"12345\"\n",
    "girisHakki = 3\n",
    "\n",
    "while True:\n",
    "    kullanici = input(\"Kullanıcı adı : \")\n",
    "    parola = input(\"Parola : \")\n",
    "    if (kullanici != sys_user and parola == sys_password):\n",
    "        print(\"Kullanıcı adı hatalı ...\")\n",
    "        girisHakki -= 1\n",
    "    elif (kullanici == sys_user and parola != sys_password):\n",
    "        print(\"Parola Hatalı ...\")\n",
    "        girisHakki -= 1\n",
    "    elif (kullanici != sys_user and parola != sys_password):\n",
    "        print(\"Kullanıcı adı ve Parola Hatalı ...\")\n",
    "        girisHakki -= 1\n",
    "    else:\n",
    "        print(\"Sisteme başarıyla giriş yapıldı\")\n",
    "        break\n",
    "    if girisHakki == 0:\n",
    "        print(\"Giriş hakkınız bitti\")\n",
    "        break"
   ]
  },
  {
   "cell_type": "code",
   "execution_count": null,
   "metadata": {},
   "outputs": [],
   "source": []
  }
 ],
 "metadata": {
  "kernelspec": {
   "display_name": "Python 3.11.0 64-bit",
   "language": "python",
   "name": "python3"
  },
  "language_info": {
   "codemirror_mode": {
    "name": "ipython",
    "version": 3
   },
   "file_extension": ".py",
   "mimetype": "text/x-python",
   "name": "python",
   "nbconvert_exporter": "python",
   "pygments_lexer": "ipython3",
   "version": "3.11.0"
  },
  "orig_nbformat": 4,
  "vscode": {
   "interpreter": {
    "hash": "27a3c722d07504c2b02014c8c75a5e194ac8adbcd4ae880769306ad56b6ffbc9"
   }
  }
 },
 "nbformat": 4,
 "nbformat_minor": 2
}
