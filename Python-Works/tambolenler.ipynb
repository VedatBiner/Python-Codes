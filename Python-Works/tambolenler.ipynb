{
 "cells": [
  {
   "cell_type": "code",
   "execution_count": 4,
   "metadata": {},
   "outputs": [],
   "source": [
    "def tambolenleribulma(sayi):\n",
    "    tamBolenler = []\n",
    "\n",
    "    for i in range(2, sayi):\n",
    "        if (sayi % i == 0): \n",
    "            tamBolenler.append(i)\n",
    "    return tamBolenler"
   ]
  },
  {
   "cell_type": "code",
   "execution_count": 6,
   "metadata": {},
   "outputs": [
    {
     "name": "stdout",
     "output_type": "stream",
     "text": [
      "88  Tam Bölenleri [2, 4, 8, 11, 22, 44]\n",
      "89  Tam Bölenleri []\n",
      "925  Tam Bölenleri [5, 25, 37, 185]\n",
      "927  Tam Bölenleri [3, 9, 103, 309]\n",
      "1233  Tam Bölenleri [3, 9, 137, 411]\n",
      "124567  Tam Bölenleri []\n",
      "Program Sonlandiriliyor\n"
     ]
    }
   ],
   "source": [
    "while True:\n",
    "    sayi = input(\"Sayi : \")\n",
    "\n",
    "    if (sayi == \"q\"):\n",
    "        print(\"Program Sonlandiriliyor\")\n",
    "        break\n",
    "    else:\n",
    "        sayi = int(sayi)\n",
    "        print(sayi, \" Tam Bölenleri\", tambolenleribulma(sayi)) "
   ]
  },
  {
   "cell_type": "code",
   "execution_count": null,
   "metadata": {},
   "outputs": [],
   "source": []
  }
 ],
 "metadata": {
  "kernelspec": {
   "display_name": "Python 3.11.0 64-bit",
   "language": "python",
   "name": "python3"
  },
  "language_info": {
   "codemirror_mode": {
    "name": "ipython",
    "version": 3
   },
   "file_extension": ".py",
   "mimetype": "text/x-python",
   "name": "python",
   "nbconvert_exporter": "python",
   "pygments_lexer": "ipython3",
   "version": "3.11.0"
  },
  "orig_nbformat": 4,
  "vscode": {
   "interpreter": {
    "hash": "27a3c722d07504c2b02014c8c75a5e194ac8adbcd4ae880769306ad56b6ffbc9"
   }
  }
 },
 "nbformat": 4,
 "nbformat_minor": 2
}
