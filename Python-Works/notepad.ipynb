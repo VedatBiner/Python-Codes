{
 "cells": [
  {
   "cell_type": "code",
   "execution_count": 1,
   "metadata": {},
   "outputs": [],
   "source": [
    "# Kütüphaneleri yükleyelim.\n",
    "import sys\n",
    "import os\n",
    "from PyQt5.QtWidgets import QWidget, QApplication, QLabel, QPushButton, QVBoxLayout, QTextEdit, QFileDialog, QHBoxLayout\n",
    "from PyQt5.QtWidgets import QAction, qApp, QMainWindow"
   ]
  },
  {
   "cell_type": "code",
   "execution_count": 2,
   "metadata": {},
   "outputs": [],
   "source": [
    "class Notepad(QWidget):\n",
    "\n",
    "    def __init__(self):\n",
    "        super().__init__()\n",
    "        self.init_ui()\n",
    "\n",
    "    def init_ui(self):\n",
    "        self.yazi_alani = QTextEdit()\n",
    "\n",
    "        # Butonlar\n",
    "        self.temizle = QPushButton(\"Temizle\")\n",
    "        self.ac = QPushButton(\"Aç\")\n",
    "        self.kaydet = QPushButton(\"Kaydet\")\n",
    "\n",
    "        # Horizontal Layout\n",
    "        h_box = QHBoxLayout()\n",
    "        h_box.addWidget(self.temizle)\n",
    "        h_box.addWidget(self.ac)\n",
    "        h_box.addWidget(self.kaydet)\n",
    "\n",
    "        # Vertical Layout\n",
    "        v_box = QVBoxLayout()\n",
    "        v_box.addWidget(self.yazi_alani)\n",
    "        v_box.addLayout(h_box)\n",
    "\n",
    "        # Pencereye yerleştirelim.\n",
    "        self.setLayout(v_box)\n",
    "        self.setWindowTitle(\"Notepad\")\n",
    "\n",
    "        # Butonlara fanksiyonel özellikler verelim.\n",
    "        self.temizle.clicked.connect(self.yaziyi_temizle)\n",
    "        self.ac.clicked.connect(self.dosya_ac)\n",
    "        self.kaydet.clicked.connect(self.dosya_kaydet)\n",
    "\n",
    "    def yaziyi_temizle(self):\n",
    "        self.yazi_alani.clear()\n",
    "\n",
    "    def dosya_ac(self):\n",
    "        dosya_ismi = QFileDialog.getOpenFileName(self, \"Dosya Aç\", os.getenv(\"HOME\"))\n",
    "        # Dosya açalım\n",
    "        with open(dosya_ismi[0], \"r\", encoding = \"utf-8\") as file:\n",
    "            self.yazi_alani.setText(file.read())\n",
    "        \n",
    "    def dosya_kaydet(self):\n",
    "        dosya_ismi = QFileDialog.getSaveFileName(self, \"Dosya Kaydet\", os.getenv(\"HOME\"))\n",
    "        # dosya açalım \n",
    "        with open(dosya_ismi[0], \"w\", encoding = \"utf-8\") as file:\n",
    "            file.write(self.yazi_alani.toPlainText())\n"
   ]
  },
  {
   "cell_type": "code",
   "execution_count": 3,
   "metadata": {},
   "outputs": [],
   "source": [
    "class Menu(QMainWindow):\n",
    "\n",
    "    def __init__(self):\n",
    "        super().__init__()\n",
    "\n",
    "        # Pencere objesini menü içine yerleştiriyoruz.\n",
    "        self.pencere = Notepad()\n",
    "        self.setCentralWidget(self.pencere)\n",
    "\n",
    "        # Menüleri oluşturalım\n",
    "        self.menuleri_olustur()\n",
    "\n",
    "    def menuleri_olustur(self):\n",
    "        menubar = self.menuBar()\n",
    "        dosya = menubar.addMenu(\"Dosya\")\n",
    "\n",
    "        # action oluşturalım\n",
    "        dosya_ac = QAction(\"Dosya Aç\", self)\n",
    "        dosya_ac.setShortcut(\"CTRL+O\")\n",
    "        dosya_kaydet = QAction(\"Dosya Kaydet\", self)\n",
    "        dosya_kaydet.setShortcut(\"CTRL+S\")\n",
    "        temizle = QAction(\"Dosya Temizle\", self)\n",
    "        temizle.setShortcut(\"CTRL+D\")\n",
    "        cikis = QAction(\"Çıkış\", self)\n",
    "        cikis.setShortcut(\"CTRL+Q\")\n",
    "\n",
    "        # Action ekleyelim\n",
    "        dosya.addAction(dosya_ac)\n",
    "        dosya.addAction(dosya_kaydet)\n",
    "        dosya.addAction(temizle)\n",
    "        dosya.addAction(cikis)\n",
    "\n",
    "        # hangi action seçildi ?\n",
    "        dosya.triggered.connet(self.response)\n",
    "\n",
    "        self.setWindowTitle(\"Metin Editörü\")\n",
    "        self.show()\n",
    "\n",
    "    def response(self, action):\n",
    "        if action.text() == \"Dosya Aç\":\n",
    "            self.pencere.dosya_ac()\n",
    "\n",
    "        elif action.text() ==\"Dosya Kaydet\":\n",
    "            self.pencere.dosya_kaydet()\n",
    "\n",
    "        elif action.text() ==\"Dosya Temizle\":\n",
    "            self.pencere.yaziyi_temizle()\n",
    "\n",
    "        elif action.text() ==\"Çıkış\":\n",
    "            qApp.quit()"
   ]
  },
  {
   "cell_type": "code",
   "execution_count": 4,
   "metadata": {},
   "outputs": [
    {
     "ename": "SystemExit",
     "evalue": "0",
     "output_type": "error",
     "traceback": [
      "An exception has occurred, use %tb to see the full traceback.\n",
      "\u001b[1;31mSystemExit\u001b[0m\u001b[1;31m:\u001b[0m 0\n"
     ]
    },
    {
     "name": "stderr",
     "output_type": "stream",
     "text": [
      "C:\\Users\\Vedat\\AppData\\Roaming\\Python\\Python311\\site-packages\\IPython\\core\\interactiveshell.py:3441: UserWarning: To exit: use 'exit', 'quit', or Ctrl-D.\n",
      "  warn(\"To exit: use 'exit', 'quit', or Ctrl-D.\", stacklevel=1)\n"
     ]
    }
   ],
   "source": [
    "app = QApplication(sys.argv)\n",
    "menu = Menu()\n",
    "sys.exit(app.exec_())"
   ]
  }
 ],
 "metadata": {
  "kernelspec": {
   "display_name": "Python 3.11.0 64-bit",
   "language": "python",
   "name": "python3"
  },
  "language_info": {
   "codemirror_mode": {
    "name": "ipython",
    "version": 3
   },
   "file_extension": ".py",
   "mimetype": "text/x-python",
   "name": "python",
   "nbconvert_exporter": "python",
   "pygments_lexer": "ipython3",
   "version": "3.11.0"
  },
  "orig_nbformat": 4,
  "vscode": {
   "interpreter": {
    "hash": "27a3c722d07504c2b02014c8c75a5e194ac8adbcd4ae880769306ad56b6ffbc9"
   }
  }
 },
 "nbformat": 4,
 "nbformat_minor": 2
}
