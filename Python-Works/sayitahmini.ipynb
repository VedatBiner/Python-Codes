{
 "cells": [
  {
   "cell_type": "code",
   "execution_count": 2,
   "metadata": {},
   "outputs": [],
   "source": [
    "# modüller\n",
    "import random\n",
    "import time\n"
   ]
  },
  {
   "cell_type": "code",
   "execution_count": 9,
   "metadata": {},
   "outputs": [
    {
     "name": "stdout",
     "output_type": "stream",
     "text": [
      "Bilgiler Sorgulanıyor\n",
      "35  Daha yüksek bir sayı söyleyin\n",
      "Bilgiler Sorgulanıyor\n",
      "45  Daha düşük bir sayı söyleyin\n",
      "Bilgiler Sorgulanıyor\n",
      "45  Daha düşük bir sayı söyleyin\n",
      "Bilgiler sorgulanıyor\n",
      "40  Tebrikler !!! Sayımız :  40\n"
     ]
    }
   ],
   "source": [
    "rastgeleSayi = random.randint(1, 40)\n",
    "tahminHakki = 7\n",
    "while True:\n",
    "    tahmin = input(\"Tahmininiz\")\n",
    "    if tahmin == \"q\":\n",
    "        print(\"Çıkış yapıldı\")\n",
    "        break\n",
    "    tahmin = int(tahmin)\n",
    "    if (tahmin < rastgeleSayi):\n",
    "        print(\"Bilgiler Sorgulanıyor\")\n",
    "        time.sleep(1)\n",
    "        print(tahmin, \" Daha yüksek bir sayı söyleyin\")\n",
    "        tahminHakki -= 1\n",
    "    elif (tahmin > rastgeleSayi):\n",
    "        print(\"Bilgiler Sorgulanıyor\")\n",
    "        time.sleep(1)\n",
    "        print(tahmin, \" Daha düşük bir sayı söyleyin\")\n",
    "        tahminHakki -= 1\n",
    "    else:\n",
    "        print(\"Bilgiler sorgulanıyor\")\n",
    "        time.sleep(1)\n",
    "        print(tahmin, \" Tebrikler !!! Sayımız : \", rastgeleSayi)\n",
    "        break\n",
    "    if tahminHakki == 0:\n",
    "        print(\"Tahmin hakkınız bitti\")\n",
    "        break\n"
   ]
  }
 ],
 "metadata": {
  "kernelspec": {
   "display_name": "Python 3.11.0 64-bit",
   "language": "python",
   "name": "python3"
  },
  "language_info": {
   "codemirror_mode": {
    "name": "ipython",
    "version": 3
   },
   "file_extension": ".py",
   "mimetype": "text/x-python",
   "name": "python",
   "nbconvert_exporter": "python",
   "pygments_lexer": "ipython3",
   "version": "3.11.0"
  },
  "orig_nbformat": 4,
  "vscode": {
   "interpreter": {
    "hash": "27a3c722d07504c2b02014c8c75a5e194ac8adbcd4ae880769306ad56b6ffbc9"
   }
  }
 },
 "nbformat": 4,
 "nbformat_minor": 2
}
