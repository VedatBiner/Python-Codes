{
 "cells": [
  {
   "cell_type": "code",
   "execution_count": 3,
   "metadata": {},
   "outputs": [
    {
     "name": "stdout",
     "output_type": "stream",
     "text": [
      "Oyuncu Kaydetme Programı\n"
     ]
    }
   ],
   "source": [
    "print(\"Oyuncu Kaydetme Programı\")\n",
    "ad = input(\"Oyuncunun Adı : \")\n",
    "soyad = input(\"Oyuncunun Soyadı : \")\n",
    "takim = input(\"Oyuncunun Takımı : \")"
   ]
  },
  {
   "cell_type": "code",
   "execution_count": 4,
   "metadata": {},
   "outputs": [
    {
     "name": "stdout",
     "output_type": "stream",
     "text": [
      "bilgiler kaydediliyor ...\n",
      "Oyuncu Adı : Vedat\n",
      "Oyuncu Soyadı : Biner\n",
      "Oyuncunun Takımı : Fenerbahçe\n",
      "\n",
      "Bilgiler Kaydedildi.\n"
     ]
    }
   ],
   "source": [
    "bilgiler = [ad, soyad, takim]\n",
    "print(\"bilgiler kaydediliyor ...\")\n",
    "print(\"Oyuncu Adı : {}\\nOyuncu Soyadı : {}\\nOyuncunun Takımı : {}\\n\"\n",
    "    .format(bilgiler[0], bilgiler[1], bilgiler[2]))\n",
    "print(\"Bilgiler Kaydedildi.\")"
   ]
  },
  {
   "cell_type": "code",
   "execution_count": null,
   "metadata": {},
   "outputs": [],
   "source": []
  }
 ],
 "metadata": {
  "kernelspec": {
   "display_name": "Python 3.11.0 64-bit",
   "language": "python",
   "name": "python3"
  },
  "language_info": {
   "codemirror_mode": {
    "name": "ipython",
    "version": 3
   },
   "file_extension": ".py",
   "mimetype": "text/x-python",
   "name": "python",
   "nbconvert_exporter": "python",
   "pygments_lexer": "ipython3",
   "version": "3.11.0"
  },
  "orig_nbformat": 4,
  "vscode": {
   "interpreter": {
    "hash": "27a3c722d07504c2b02014c8c75a5e194ac8adbcd4ae880769306ad56b6ffbc9"
   }
  }
 },
 "nbformat": 4,
 "nbformat_minor": 2
}
