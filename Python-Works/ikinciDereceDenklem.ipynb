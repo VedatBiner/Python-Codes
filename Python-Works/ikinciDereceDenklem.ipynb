{
 "cells": [
  {
   "cell_type": "code",
   "execution_count": null,
   "metadata": {},
   "outputs": [],
   "source": [
    "\"\"\"\n",
    "İkinci derece bir bilinmeyenleri denklemin köklerini bulma\n",
    "denklem : ax^2 + bx + c\n",
    "delta : b ** 2 - 4 * a * c\n",
    "birinci kök : (-b - delta ** 0.5) / (2 * a)\n",
    "ikinci kök : (-b + delta ** 0.5) / (2 * a)\n",
    "\"\"\""
   ]
  },
  {
   "cell_type": "code",
   "execution_count": 7,
   "metadata": {},
   "outputs": [
    {
     "name": "stdout",
     "output_type": "stream",
     "text": [
      "x1 = -3.0\n",
      "x2 = -2.0 \n"
     ]
    }
   ],
   "source": [
    "a = int(input(\"a : \")) # 1\n",
    "b = int(input(\"b : \")) # 5\n",
    "c = int(input(\"c : \")) # 6\n",
    "delta = b ** 2 - 4 * a * c\n",
    "x1 = (-b - delta ** 0.5) / (2 * a)\n",
    "x2 = (-b + delta ** 0.5) / (2 * a)\n",
    "print(\"x1 = {}\\nx2 = {} \".format(x1, x2))"
   ]
  },
  {
   "cell_type": "code",
   "execution_count": null,
   "metadata": {},
   "outputs": [],
   "source": []
  }
 ],
 "metadata": {
  "kernelspec": {
   "display_name": "Python 3.11.0 64-bit",
   "language": "python",
   "name": "python3"
  },
  "language_info": {
   "codemirror_mode": {
    "name": "ipython",
    "version": 3
   },
   "file_extension": ".py",
   "mimetype": "text/x-python",
   "name": "python",
   "nbconvert_exporter": "python",
   "pygments_lexer": "ipython3",
   "version": "3.11.0"
  },
  "orig_nbformat": 4,
  "vscode": {
   "interpreter": {
    "hash": "27a3c722d07504c2b02014c8c75a5e194ac8adbcd4ae880769306ad56b6ffbc9"
   }
  }
 },
 "nbformat": 4,
 "nbformat_minor": 2
}
