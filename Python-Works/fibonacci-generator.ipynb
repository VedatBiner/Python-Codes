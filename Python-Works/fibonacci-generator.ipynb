{
 "cells": [
  {
   "cell_type": "code",
   "execution_count": null,
   "metadata": {},
   "outputs": [],
   "source": [
    "# Generator ile fibonacci serisi\n",
    "def fibonacci():\n",
    "    a = 1\n",
    "    b = 1\n",
    "    yield a, # generator ile üretelim\n",
    "    yield b\n",
    "\n",
    "    while True:\n",
    "        a, b = b, a + b\n",
    "        yield b"
   ]
  },
  {
   "cell_type": "code",
   "execution_count": null,
   "metadata": {},
   "outputs": [],
   "source": [
    "for sayi in fibonacci():\n",
    "    if sayi > 100000:\n",
    "        break\n",
    "    print(sayi)"
   ]
  }
 ],
 "metadata": {
  "kernelspec": {
   "display_name": "Python 3.11.0 64-bit",
   "language": "python",
   "name": "python3"
  },
  "language_info": {
   "name": "python",
   "version": "3.11.0"
  },
  "orig_nbformat": 4,
  "vscode": {
   "interpreter": {
    "hash": "27a3c722d07504c2b02014c8c75a5e194ac8adbcd4ae880769306ad56b6ffbc9"
   }
  }
 },
 "nbformat": 4,
 "nbformat_minor": 2
}
