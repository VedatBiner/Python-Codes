{
 "cells": [
  {
   "cell_type": "code",
   "execution_count": 1,
   "metadata": {},
   "outputs": [],
   "source": [
    "# Kütüphaneleri yükleyelim.\n",
    "import requests\n",
    "from bs4 import BeautifulSoup"
   ]
  },
  {
   "cell_type": "code",
   "execution_count": 3,
   "metadata": {},
   "outputs": [
    {
     "name": "stdout",
     "output_type": "stream",
     "text": [
      "<Response [200]>\n"
     ]
    }
   ],
   "source": [
    "# web sayfasını alalım\n",
    "url = \"https://www.imdb.com/chart/top\"\n",
    "response = requests.get(url) # sayfadan bilgileri çek\n",
    "print(response)"
   ]
  },
  {
   "cell_type": "code",
   "execution_count": 5,
   "metadata": {},
   "outputs": [],
   "source": [
    "# içeriğe ulaşalım\n",
    "html_icerigi = response.content\n",
    "soup = BeautifulSoup(html_icerigi, \"html.parser\")"
   ]
  },
  {
   "cell_type": "code",
   "execution_count": 17,
   "metadata": {},
   "outputs": [],
   "source": [
    "# Kullanıcıdan rating alalım.\n",
    "a = float(input(\"Rating giriniz : \"))"
   ]
  },
  {
   "cell_type": "code",
   "execution_count": 11,
   "metadata": {},
   "outputs": [],
   "source": [
    "# film isimleri ve oylar için iki liste oluşturalım\n",
    "basliklar = soup.find_all(\"td\", {\"class\":\"titleColumn\"})\n",
    "ratingler = soup.find_all(\"td\", {\"class\":\"ratingColumn imdbRating\"})"
   ]
  },
  {
   "cell_type": "code",
   "execution_count": 18,
   "metadata": {},
   "outputs": [
    {
     "name": "stdout",
     "output_type": "stream",
     "text": [
      "Film İsmi : 1.      The Shawshank Redemption(1994) Filmin Ratingi : 9.2\n",
      "Film İsmi : 2.      The Godfather(1972) Filmin Ratingi : 9.2\n",
      "Film İsmi : 3.      The Dark Knight(2008) Filmin Ratingi : 9.0\n",
      "Film İsmi : 4.      The Godfather Part II(1974) Filmin Ratingi : 9.0\n",
      "Film İsmi : 5.      12 Angry Men(1957) Filmin Ratingi : 9.0\n",
      "Film İsmi : 6.      Schindler's List(1993) Filmin Ratingi : 8.9\n",
      "Film İsmi : 7.      The Lord of the Rings: The Return of the King(2003) Filmin Ratingi : 8.9\n",
      "Film İsmi : 8.      Pulp Fiction(1994) Filmin Ratingi : 8.8\n",
      "Film İsmi : 9.      The Lord of the Rings: The Fellowship of the Ring(2001) Filmin Ratingi : 8.8\n",
      "Film İsmi : 10.      Il buono, il brutto, il cattivo(1966) Filmin Ratingi : 8.8\n",
      "Film İsmi : 11.      Forrest Gump(1994) Filmin Ratingi : 8.8\n",
      "Film İsmi : 12.      Fight Club(1999) Filmin Ratingi : 8.7\n",
      "Film İsmi : 13.      The Lord of the Rings: The Two Towers(2002) Filmin Ratingi : 8.7\n",
      "Film İsmi : 14.      Inception(2010) Filmin Ratingi : 8.7\n",
      "Film İsmi : 15.      The Empire Strikes Back(1980) Filmin Ratingi : 8.7\n",
      "Film İsmi : 16.      The Matrix(1999) Filmin Ratingi : 8.7\n",
      "Film İsmi : 17.      Goodfellas(1990) Filmin Ratingi : 8.7\n",
      "Film İsmi : 18.      One Flew Over the Cuckoo's Nest(1975) Filmin Ratingi : 8.6\n",
      "Film İsmi : 19.      Se7en(1995) Filmin Ratingi : 8.6\n",
      "Film İsmi : 20.      Shichinin no samurai(1954) Filmin Ratingi : 8.6\n",
      "Film İsmi : 21.      It's a Wonderful Life(1946) Filmin Ratingi : 8.6\n",
      "Film İsmi : 22.      The Silence of the Lambs(1991) Filmin Ratingi : 8.6\n",
      "Film İsmi : 23.      Cidade de Deus(2002) Filmin Ratingi : 8.6\n",
      "Film İsmi : 24.      Saving Private Ryan(1998) Filmin Ratingi : 8.6\n",
      "Film İsmi : 25.      La vita è bella(1997) Filmin Ratingi : 8.6\n",
      "Film İsmi : 26.      Interstellar(2014) Filmin Ratingi : 8.6\n",
      "Film İsmi : 27.      The Green Mile(1999) Filmin Ratingi : 8.6\n",
      "Film İsmi : 28.      Star Wars(1977) Filmin Ratingi : 8.6\n"
     ]
    }
   ],
   "source": [
    "# iki listeyi Birleştirelim\n",
    "for baslik, rating in zip(basliklar, ratingler):\n",
    "    baslik = baslik.text\n",
    "    baslik = baslik.strip()\n",
    "    baslik = baslik.replace(\"\\n\", \"\")\n",
    "    rating = rating.text\n",
    "    rating = rating.strip()\n",
    "    rating = rating.replace(\"\\n\", \"\")\n",
    "    if (float(rating) > a):\n",
    "        print(\"Film İsmi : {} Filmin Ratingi : {}\".format(baslik, rating))"
   ]
  }
 ],
 "metadata": {
  "kernelspec": {
   "display_name": "Python 3.11.0 64-bit",
   "language": "python",
   "name": "python3"
  },
  "language_info": {
   "codemirror_mode": {
    "name": "ipython",
    "version": 3
   },
   "file_extension": ".py",
   "mimetype": "text/x-python",
   "name": "python",
   "nbconvert_exporter": "python",
   "pygments_lexer": "ipython3",
   "version": "3.11.0"
  },
  "orig_nbformat": 4,
  "vscode": {
   "interpreter": {
    "hash": "27a3c722d07504c2b02014c8c75a5e194ac8adbcd4ae880769306ad56b6ffbc9"
   }
  }
 },
 "nbformat": 4,
 "nbformat_minor": 2
}
