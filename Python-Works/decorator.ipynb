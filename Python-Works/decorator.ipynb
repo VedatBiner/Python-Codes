{
 "cells": [
  {
   "cell_type": "code",
   "execution_count": 11,
   "metadata": {},
   "outputs": [
    {
     "name": "stdout",
     "output_type": "stream",
     "text": [
      "Teklerin Ortalaması :  43.0\n",
      "Çiftlerin Toplamı :  38.666666666666664\n",
      "Genel Ortalama :  40.4\n"
     ]
    }
   ],
   "source": [
    "def ekstra(fonk):\n",
    "\n",
    "    def wrapper(sayilar):\n",
    "        ciftler_toplami = 0\n",
    "        cift_sayilar = 0\n",
    "        tekler_toplami = 0\n",
    "        tek_sayilar = 0\n",
    "\n",
    "        for sayi in sayilar:\n",
    "            if(sayi % 2 == 0): \n",
    "                ciftler_toplami += sayi\n",
    "                cift_sayilar += 1\n",
    "            else:\n",
    "                tekler_toplami += sayi\n",
    "                tek_sayilar += 1\n",
    "\n",
    "        print(\"Teklerin Ortalaması : \", tekler_toplami / tek_sayilar)\n",
    "        print(\"Çiftlerin Toplamı : \", ciftler_toplami / cift_sayilar)\n",
    "        fonk(sayilar)\n",
    "    return wrapper\n",
    "\n",
    "\n",
    "@ekstra\n",
    "def ortalamabul(sayilar):\n",
    "    toplam = 0\n",
    "    for sayi in sayilar:\n",
    "        toplam += sayi\n",
    "    print(\"Genel Ortalama : \", toplam / len(sayilar))\n",
    "\n",
    "liste = [1, 2, 3, 4, 34, 60, 63, 32, 100, 105]\n",
    "ortalamabul(liste)"
   ]
  },
  {
   "cell_type": "code",
   "execution_count": null,
   "metadata": {},
   "outputs": [],
   "source": []
  }
 ],
 "metadata": {
  "kernelspec": {
   "display_name": "Python 3.11.0 64-bit",
   "language": "python",
   "name": "python3"
  },
  "language_info": {
   "codemirror_mode": {
    "name": "ipython",
    "version": 3
   },
   "file_extension": ".py",
   "mimetype": "text/x-python",
   "name": "python",
   "nbconvert_exporter": "python",
   "pygments_lexer": "ipython3",
   "version": "3.11.0"
  },
  "orig_nbformat": 4,
  "vscode": {
   "interpreter": {
    "hash": "27a3c722d07504c2b02014c8c75a5e194ac8adbcd4ae880769306ad56b6ffbc9"
   }
  }
 },
 "nbformat": 4,
 "nbformat_minor": 2
}
