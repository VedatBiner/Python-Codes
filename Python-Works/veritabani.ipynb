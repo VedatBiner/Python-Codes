{
 "cells": [
  {
   "cell_type": "code",
   "execution_count": 3,
   "metadata": {},
   "outputs": [],
   "source": [
    "# kütüphanemiz\n",
    "import sqlite3"
   ]
  },
  {
   "cell_type": "code",
   "execution_count": 4,
   "metadata": {},
   "outputs": [],
   "source": [
    "# sqlite bağlantısı kuralım\n",
    "# dosya yoksa oluşturacak ve bağlanacak.\n",
    "con = sqlite3.connect(\"kutuphane.db\")\n",
    "cursor = con.cursor() # imleç oluşturduk."
   ]
  },
  {
   "cell_type": "code",
   "execution_count": null,
   "metadata": {},
   "outputs": [],
   "source": [
    "def tablo_olustur():\n",
    "    # sorguyu hazırla\n",
    "    cursor.execute(\"CREATE TABLE IF NOT EXISTS kitaplik (İsim TEXT, Yazar TEXT, Yayınevi TEXT, Sayfa_Sayisi INT)\")\n",
    "    con.commit() # sorguyu çalıştır"
   ]
  },
  {
   "cell_type": "code",
   "execution_count": null,
   "metadata": {},
   "outputs": [],
   "source": [
    "def veri_ekle():\n",
    "    # Veri ekle\n",
    "    cursor.execute(\"INSERT INTO kitaplik VALUES ('İstanbul Hatırası', 'Ahmet Ümit', 'Everest', 561)\")\n",
    "    con.commit() # sorguyu çalıştır"
   ]
  },
  {
   "cell_type": "code",
   "execution_count": null,
   "metadata": {},
   "outputs": [],
   "source": [
    "# kullanıcıdan gelen verilerin girilmesi\n",
    "def veri_ekle2(isim, yazar, yayinevi, sayfa_sayisi):\n",
    "    cursor.execute(\"INSERT INTO kitaplik VALUES (?, ?, ?, ?)\", (isim, yazar, yayinevi, sayfa_sayisi))\n",
    "    con.commit()"
   ]
  },
  {
   "cell_type": "code",
   "execution_count": 7,
   "metadata": {},
   "outputs": [],
   "source": [
    "# Bütün kitapları çekelim\n",
    "def verileri_al():\n",
    "    cursor.execute(\"SELECT * FROM kitaplik\")\n",
    "    liste = cursor.fetchall() # cursor üzerindeki bütün bilgileri dönecek\n",
    "    print(\"Kitaplık Tablosunun bilgileri ......\")\n",
    "    for i in liste:\n",
    "        print(i)"
   ]
  },
  {
   "cell_type": "code",
   "execution_count": null,
   "metadata": {},
   "outputs": [],
   "source": [
    "# Sadec Kitap Adı ve Yazarı çekelim\n",
    "def verileri_al2():\n",
    "    cursor.execute(\"SELECT İsim, Yazar FROM kitaplik\")\n",
    "    liste = cursor.fetchall()\n",
    "    print(\"Kitaplık Tablosunun bilgileri ......\")\n",
    "    for i in liste:\n",
    "        print(i)"
   ]
  },
  {
   "cell_type": "code",
   "execution_count": null,
   "metadata": {},
   "outputs": [],
   "source": [
    "# Yayınevine göre çekelim.\n",
    "def verileri_al3(yayinevi):\n",
    "    cursor.execute(\"SELECT * FROM kitaplik WHERE Yayınevi = ?\", (yayinevi,))\n",
    "    liste = cursor.fetchall()\n",
    "    print(\"Kitaplık Tablosunun bilgileri ......\")\n",
    "    for i in liste:\n",
    "        print(i)"
   ]
  },
  {
   "cell_type": "code",
   "execution_count": 5,
   "metadata": {},
   "outputs": [],
   "source": [
    "# Verileri Güncelleme işlemi\n",
    "# Doğan kitap >> Everest olsun\n",
    "def verileri_guncelle(eski_yayinevi, yeni_yayinevi):\n",
    "    cursor.execute(\"UPDATE kitaplik SET Yayınevi = ? WHERE Yayınevi = ?\", (yeni_yayinevi, eski_yayinevi))\n",
    "    con.commit() # tabloyu güncelle"
   ]
  },
  {
   "cell_type": "code",
   "execution_count": null,
   "metadata": {},
   "outputs": [],
   "source": [
    "# verileri silelim.\n",
    "def verileri_sil(yazar):\n",
    "    cursor.execute(\"DELETE FROM kitaplik WHERE yazar = ?\", (yazar,))\n",
    "    con.commit()"
   ]
  },
  {
   "cell_type": "code",
   "execution_count": null,
   "metadata": {},
   "outputs": [],
   "source": [
    "verileri_al3(\"Everest\")"
   ]
  },
  {
   "cell_type": "code",
   "execution_count": null,
   "metadata": {},
   "outputs": [],
   "source": [
    "verileri_al2()"
   ]
  },
  {
   "cell_type": "code",
   "execution_count": 8,
   "metadata": {},
   "outputs": [
    {
     "name": "stdout",
     "output_type": "stream",
     "text": [
      "Kitaplık Tablosunun bilgileri ......\n",
      "('İstanbul Hatırası', 'Ahmet Ümit', 'Everest', 561)\n",
      "('Cerrah', 'Tess Gerritsen', 'Everest', 271)\n",
      "('Yüzük Kardeşliği', 'J.R.R. Tolkien', 'Metis Edebiyat', 486)\n",
      "('Sultanı Öldürmek', 'Ahmet Ümit', 'Everest', 511)\n",
      "('İki Kule', 'J.R.R. Tolkien', 'Metis Edebiyat', 381)\n"
     ]
    }
   ],
   "source": [
    "verileri_al()"
   ]
  },
  {
   "cell_type": "code",
   "execution_count": null,
   "metadata": {},
   "outputs": [],
   "source": [
    "veri_ekle()"
   ]
  },
  {
   "cell_type": "code",
   "execution_count": null,
   "metadata": {},
   "outputs": [],
   "source": [
    "tablo_olustur()"
   ]
  },
  {
   "cell_type": "code",
   "execution_count": null,
   "metadata": {},
   "outputs": [],
   "source": [
    "isim = input(\"İsim : \")\n",
    "yazar = input(\"Yazar : \")\n",
    "yayinevi = input(\"Yayınevi : \")\n",
    "sayfa_sayisi = int(input(\"Sayfa Sayısı : \"))\n",
    "veri_ekle2(isim, yazar, yayinevi, sayfa_sayisi)"
   ]
  },
  {
   "cell_type": "code",
   "execution_count": 6,
   "metadata": {},
   "outputs": [],
   "source": [
    "verileri_guncelle(\"Doğan Kitap\", \"Everest\")"
   ]
  },
  {
   "cell_type": "code",
   "execution_count": null,
   "metadata": {},
   "outputs": [],
   "source": [
    "verileri_sil(\"Ahmet Ümit\")"
   ]
  },
  {
   "cell_type": "code",
   "execution_count": null,
   "metadata": {},
   "outputs": [],
   "source": [
    "con.close() # SQLite bağlantısını kapatıyoruz"
   ]
  }
 ],
 "metadata": {
  "kernelspec": {
   "display_name": "Python 3.11.0 64-bit",
   "language": "python",
   "name": "python3"
  },
  "language_info": {
   "codemirror_mode": {
    "name": "ipython",
    "version": 3
   },
   "file_extension": ".py",
   "mimetype": "text/x-python",
   "name": "python",
   "nbconvert_exporter": "python",
   "pygments_lexer": "ipython3",
   "version": "3.11.0"
  },
  "orig_nbformat": 4,
  "vscode": {
   "interpreter": {
    "hash": "27a3c722d07504c2b02014c8c75a5e194ac8adbcd4ae880769306ad56b6ffbc9"
   }
  }
 },
 "nbformat": 4,
 "nbformat_minor": 2
}
