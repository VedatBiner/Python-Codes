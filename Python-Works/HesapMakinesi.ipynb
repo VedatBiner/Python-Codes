{
 "cells": [
  {
   "cell_type": "code",
   "execution_count": 1,
   "metadata": {},
   "outputs": [
    {
     "name": "stdout",
     "output_type": "stream",
     "text": [
      "\n",
      "Hesap Makinesi\n",
      "********************************************* \n",
      "1 - Topalama İşlemi\n",
      "2 - Çıkarma İşlemi\n",
      "3 - Çarpma İşlemi\n",
      "4 - Bölme İşlemi\n",
      "*********************************************\n",
      "\n"
     ]
    }
   ],
   "source": [
    "print (\"\"\"\n",
    "Hesap Makinesi\n",
    "********************************************* \n",
    "1 - Topalama İşlemi\n",
    "2 - Çıkarma İşlemi\n",
    "3 - Çarpma İşlemi\n",
    "4 - Bölme İşlemi\n",
    "*********************************************\n",
    "\"\"\")\n"
   ]
  },
  {
   "cell_type": "code",
   "execution_count": 2,
   "metadata": {},
   "outputs": [],
   "source": [
    "a = int(input(\"Birinci Sayı : \"))\n",
    "b = int(input(\"İkinci Sayı : \"))\n"
   ]
  },
  {
   "cell_type": "code",
   "execution_count": 6,
   "metadata": {},
   "outputs": [
    {
     "name": "stdout",
     "output_type": "stream",
     "text": [
      "Hatalı İşlem girdiniz !!!\n"
     ]
    }
   ],
   "source": [
    "islem = input(\"İşlemi giriniz\")\n",
    "if islem == \"1\" :\n",
    "    print(\"{} ile {} in toplamı {} dır\".format(a, b, a + b))\n",
    "elif islem == \"2\" :\n",
    "    print(\"{} ile {} in farkı {} dır\".format(a, b, a - b))\n",
    "elif islem == \"3\" :\n",
    "    print(\"{} ile {} in çarpımı {} dır\".format(a, b, a * b))\n",
    "elif islem == \"4\" :\n",
    "    print(\"{} ile {} in bölümü {} dır\".format(a, b, a / b))\n",
    "else:\n",
    "    print(\"Hatalı İşlem girdiniz !!!\")\n"
   ]
  },
  {
   "cell_type": "code",
   "execution_count": null,
   "metadata": {},
   "outputs": [],
   "source": []
  }
 ],
 "metadata": {
  "kernelspec": {
   "display_name": "Python 3.11.0 64-bit",
   "language": "python",
   "name": "python3"
  },
  "language_info": {
   "codemirror_mode": {
    "name": "ipython",
    "version": 3
   },
   "file_extension": ".py",
   "mimetype": "text/x-python",
   "name": "python",
   "nbconvert_exporter": "python",
   "pygments_lexer": "ipython3",
   "version": "3.11.0"
  },
  "orig_nbformat": 4,
  "vscode": {
   "interpreter": {
    "hash": "27a3c722d07504c2b02014c8c75a5e194ac8adbcd4ae880769306ad56b6ffbc9"
   }
  }
 },
 "nbformat": 4,
 "nbformat_minor": 2
}
