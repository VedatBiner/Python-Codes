{
 "cells": [
  {
   "cell_type": "code",
   "execution_count": null,
   "metadata": {},
   "outputs": [],
   "source": [
    "def ekstra(fonk):\n",
    "    \n",
    "    def ekstra_ozellik():\n",
    "        print(\"Mükemmel Sayılar...\")\n",
    "        for sayı in range(1,1001):\n",
    "            toplam = 0\n",
    "            i = 1\n",
    "            while (i < sayı):\n",
    "                if (sayı % i == 0):\n",
    "                    toplam += i\n",
    "                i +=1\n",
    "            if (toplam == sayı):\n",
    "                print(sayı)\n",
    "        fonk()\n",
    "                \n",
    "    return ekstra_ozellik\n",
    "    \n",
    "@ekstra\n",
    "def asal_sayılar():\n",
    "    print(\"Asal Sayılar...\")\n",
    "    for sayı in range(2,1001):\n",
    "        i = 2 \n",
    "        say = 0\n",
    "        while (i < sayı):\n",
    "            if (sayı % i == 0):\n",
    "                say += 1\n",
    "            i += 1\n",
    "        if (say == 0):\n",
    "            print(sayı)\n",
    "            \n",
    "asal_sayılar()        "
   ]
  }
 ],
 "metadata": {
  "language_info": {
   "name": "python"
  },
  "orig_nbformat": 4
 },
 "nbformat": 4,
 "nbformat_minor": 2
}
