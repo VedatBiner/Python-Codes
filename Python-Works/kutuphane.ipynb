{
 "cells": [
  {
   "cell_type": "code",
   "execution_count": 2,
   "metadata": {},
   "outputs": [],
   "source": [
    "# kütüphanelerimiz\n",
    "import sqlite3\n",
    "import time"
   ]
  },
  {
   "cell_type": "code",
   "execution_count": 3,
   "metadata": {},
   "outputs": [],
   "source": [
    "# Kitap sınıfı\n",
    "class Kitap():\n",
    "\n",
    "    def __init__(self, isim, yazar, yayinevi, tur, baski):\n",
    "        self.isim = isim \n",
    "        self.yazar = yazar \n",
    "        self.yayinevi = yayinevi\n",
    "        self.tur = tur \n",
    "        self.baski = baski\n",
    "\n",
    "    def __str__(self):\n",
    "        return \"Kitap İsmi : {}\\nYazar : {}\\nYayınevi : {}\\nTür : {}\\nBaskı : {}\\n\".format(self.isim, self.yazar, self.yayinevi, self.tur, self.baski)"
   ]
  },
  {
   "cell_type": "code",
   "execution_count": 4,
   "metadata": {},
   "outputs": [],
   "source": [
    "# Kütüphane sınıfı\n",
    "class Kutuphane():\n",
    "\n",
    "    def __init__(self):\n",
    "        self.baglanti_olustur()\n",
    "\n",
    "    # bağlantımızı ve tablomuzu oluşturalım.\n",
    "    def baglanti_olustur(self):\n",
    "        self.baglanti = sqlite3.connect(\"kutuphane.db\")\n",
    "        self.cursor = self.baglanti.cursor()\n",
    "        sorgu = \"CREATE TABLE IF NOT EXISTS kitaplar (isim TEXT, yazar TEXT, yayinevi TEXT, tur TEXT, baski INT)\"\n",
    "        self.cursor.execute(sorgu)\n",
    "        self.baglanti.commit()\n",
    "\n",
    "    # Bağlantıyı keselim\n",
    "    def baglantiyi_kes(self): \n",
    "        self.baglanti.close()\n",
    "\n",
    "    # Kitap listesini görelim\n",
    "    def kitaplari_goster(self):\n",
    "        sorgu = \"SELECT * FROM kitaplar\"\n",
    "        self.cursor.execute(sorgu)\n",
    "        kitaplar = self.cursor.fetchall()\n",
    "        if (len(kitaplar) == 0): \n",
    "            print(\"Kütüphanede kitap bulunmuyor\")\n",
    "        else: \n",
    "            for i in kitaplar: \n",
    "                # Kitap objesi \n",
    "                kitap = Kitap(i[0], i[1], i[2], i[3], i[4])\n",
    "                print(kitap)\n",
    "    \n",
    "    # Kitap sorgulama\n",
    "    def kitap_sorgula(self, isim):\n",
    "        sorgu = \"SELECT * FROM kitaplar WHERE isim = ?\"\n",
    "        self.cursor.execute(sorgu, (isim,))\n",
    "        kitaplar = self.cursor.fetchall()\n",
    "        if (len(kitaplar) == 0):\n",
    "            print(\"Böyle bir kitap bulunmuyor ...\")\n",
    "        else:\n",
    "            kitap = Kitap(kitaplar[0][0], kitaplar[0][1], kitaplar[0][2], kitaplar[0][3], kitaplar[0][4])\n",
    "            print(kitap)\n",
    "\n",
    "    # Kitap ekleme\n",
    "    def kitap_ekle(self, kitap):\n",
    "        sorgu = \"INSERT INTO kitaplar VALUES(?, ?, ?, ?, ?)\"\n",
    "        self.cursor.execute(sorgu, (kitap.isim, kitap.yazar, kitap.yayinevi, kitap.tur, kitap.baski))\n",
    "        self.baglanti.commit() # bilgileri güncelle\n",
    "\n",
    "    # Kitap silme\n",
    "    def kitap_sil(self, isim):\n",
    "        sorgu = \"DELETE FROM kitaplar WHERE isim = ?\"\n",
    "        self.cursor.execute(sorgu, (isim,))\n",
    "        self.baglanti.commit()\n",
    "\n",
    "    # baskı sayısı arttıralım\n",
    "    def baski_yukselt(self, isim): \n",
    "        sorgu = \"SELECT * FROM kitaplar WHERE isim = ?\"\n",
    "        self.cursor.execute(sorgu, (isim,))\n",
    "        kitaplar = self.cursor.fetchall()\n",
    "        if (len(kitaplar) == 0): \n",
    "            print(\"Böyle bir kitap bulunmuyor\")\n",
    "        else: \n",
    "            baski = kitaplar[0][4]\n",
    "            baski += 1\n",
    "            sorgu2 = \"UPDATE kitaplar set baski = ? WHERE isim = ?\"\n",
    "            self.cursor.execute(sorgu2, (baski, isim))\n",
    "            self.baglanti.commit()"
   ]
  },
  {
   "cell_type": "code",
   "execution_count": 1,
   "metadata": {},
   "outputs": [],
   "source": [
    "# sqlite bağlantısı kuralım\n",
    "# dosya yoksa oluşturacak ve bağlanacak.\n",
    "def dosya_ac():\n",
    "    con = sqlite3.connect(\"kutuphane.db\")\n",
    "    cursor = con.cursor() # imleç oluşturduk."
   ]
  }
 ],
 "metadata": {
  "kernelspec": {
   "display_name": "Python 3.11.0 64-bit",
   "language": "python",
   "name": "python3"
  },
  "language_info": {
   "codemirror_mode": {
    "name": "ipython",
    "version": 3
   },
   "file_extension": ".py",
   "mimetype": "text/x-python",
   "name": "python",
   "nbconvert_exporter": "python",
   "pygments_lexer": "ipython3",
   "version": "3.11.0"
  },
  "orig_nbformat": 4,
  "vscode": {
   "interpreter": {
    "hash": "27a3c722d07504c2b02014c8c75a5e194ac8adbcd4ae880769306ad56b6ffbc9"
   }
  }
 },
 "nbformat": 4,
 "nbformat_minor": 2
}
