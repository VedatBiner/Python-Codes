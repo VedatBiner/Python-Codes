{
 "cells": [
  {
   "cell_type": "code",
   "execution_count": 1,
   "metadata": {},
   "outputs": [],
   "source": [
    "# Kütühanelerimizi yükleyelim.\n",
    "import sys\n",
    "import sqlite3\n",
    "from PyQt5 import QtWidgets"
   ]
  },
  {
   "cell_type": "code",
   "execution_count": 2,
   "metadata": {},
   "outputs": [],
   "source": [
    "# Sınıf oluşturalım\n",
    "class Pencere(QtWidgets.QWidget):\n",
    "\n",
    "    def __init__(self):\n",
    "        super().__init__()\n",
    "        # veri tabanı bağlantısı için\n",
    "        self.baglanti_olustur()\n",
    "        self.init_ui()\n",
    "\n",
    "    def baglanti_olustur(self):\n",
    "        # bağlantı objesi\n",
    "        baglanti = sqlite3.connect(\"database.db\")\n",
    "        self.cursor = baglanti.cursor()\n",
    "        # tablo oluşturalım\n",
    "        self.cursor.execute(\"CREATE TABLE IF NOT EXISTS uyeler(kullanici_adi TEXT, parola TEXT)\")\n",
    "        baglanti.commit()\n",
    "\n",
    "    def init_ui(self):\n",
    "        self.kullanici_adi = QtWidgets.QLineEdit()\n",
    "        self.parola = QtWidgets.QLineEdit()\n",
    "        # parolayı gizleyerek yazma\n",
    "        self.parola.setEchoMode(QtWidgets.QLineEdit.Password)\n",
    "        self.giris = QtWidgets.QPushButton(\"Giriş Yap\")\n",
    "        self.yazi_alani = QtWidgets.QLabel(\"\")\n",
    "        v_box = QtWidgets.QVBoxLayout()\n",
    "        v_box.addWidget(self.kullanici_adi)\n",
    "        v_box.addWidget(self.parola)\n",
    "        v_box.addWidget(self.yazi_alani)\n",
    "        v_box.addStretch()\n",
    "        v_box.addWidget(self.giris)\n",
    "        h_box = QtWidgets.QHBoxLayout()\n",
    "        h_box.addStretch()\n",
    "        h_box.addLayout(v_box)\n",
    "        h_box.addStretch()\n",
    "        self.setLayout(h_box)\n",
    "        self.setWindowTitle(\"Kullanıcı Girişi\")\n",
    "        # Giriş butonuna fonksiyon ekleyelim.\n",
    "        self.giris.clicked.connect(self.login)\n",
    "        self.show()\n",
    "\n",
    "    def login(self):\n",
    "        # kulanıcı bilgilerini al\n",
    "        adi = self.kullanici_adi.text()\n",
    "        par = self.parola.text()\n",
    "        self.cursor.execute(\"SELECT * FROM uyeler WHERE kullanici_adi = ? and parola = ?\", (adi, par))\n",
    "        data = self.cursor.fetchall()\n",
    "        if len(data) == 0: # aranan İsim yoksa\n",
    "            self.yazi_alani.setText(\"Böyle bir kullanıcı yok\\nLütfen tekrar deneyiniz\")\n",
    "        else: # aranan isim varsa\n",
    "            self.yazi_alani.setText(\"Hoş geldiniz \" + adi)"
   ]
  },
  {
   "cell_type": "code",
   "execution_count": 3,
   "metadata": {},
   "outputs": [
    {
     "ename": "SystemExit",
     "evalue": "0",
     "output_type": "error",
     "traceback": [
      "An exception has occurred, use %tb to see the full traceback.\n",
      "\u001b[1;31mSystemExit\u001b[0m\u001b[1;31m:\u001b[0m 0\n"
     ]
    },
    {
     "name": "stderr",
     "output_type": "stream",
     "text": [
      "C:\\Users\\Vedat\\AppData\\Roaming\\Python\\Python311\\site-packages\\IPython\\core\\interactiveshell.py:3441: UserWarning: To exit: use 'exit', 'quit', or Ctrl-D.\n",
      "  warn(\"To exit: use 'exit', 'quit', or Ctrl-D.\", stacklevel=1)\n"
     ]
    }
   ],
   "source": [
    "app = QtWidgets.QApplication(sys.argv)\n",
    "pencere = Pencere()\n",
    "sys.exit(app.exec_())"
   ]
  }
 ],
 "metadata": {
  "kernelspec": {
   "display_name": "Python 3.11.0 64-bit",
   "language": "python",
   "name": "python3"
  },
  "language_info": {
   "codemirror_mode": {
    "name": "ipython",
    "version": 3
   },
   "file_extension": ".py",
   "mimetype": "text/x-python",
   "name": "python",
   "nbconvert_exporter": "python",
   "pygments_lexer": "ipython3",
   "version": "3.11.0"
  },
  "orig_nbformat": 4,
  "vscode": {
   "interpreter": {
    "hash": "27a3c722d07504c2b02014c8c75a5e194ac8adbcd4ae880769306ad56b6ffbc9"
   }
  }
 },
 "nbformat": 4,
 "nbformat_minor": 2
}
