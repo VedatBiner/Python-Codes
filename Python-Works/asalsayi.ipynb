{
 "cells": [
  {
   "cell_type": "code",
   "execution_count": 3,
   "metadata": {},
   "outputs": [],
   "source": [
    "def asal_mi(sayi):\n",
    "    if (sayi == 1):\n",
    "        return False\n",
    "    elif (sayi == 2):\n",
    "        return True\n",
    "    else:\n",
    "        for i in range(2, sayi):\n",
    "            if (sayi % i == 0):\n",
    "                return False\n",
    "        return True"
   ]
  },
  {
   "cell_type": "code",
   "execution_count": 4,
   "metadata": {},
   "outputs": [
    {
     "name": "stdout",
     "output_type": "stream",
     "text": [
      "18  asal bir sayi değildir\n",
      "121  asal bir sayi değildir\n",
      "147  asal bir sayi değildir\n",
      "11  asal bir sayidir\n",
      "3  asal bir sayidir\n",
      "4  asal bir sayi değildir\n",
      "45  asal bir sayi değildir\n"
     ]
    }
   ],
   "source": [
    "while True:\n",
    "    sayi = input(\"Sayi : \")\n",
    "    if (sayi == \"q\"):\n",
    "        break\n",
    "    else:\n",
    "        sayi = int(sayi)\n",
    "        if (asal_mi(sayi)):\n",
    "            print(sayi, \" asal bir sayidir\")\n",
    "        else:\n",
    "            print(sayi, \" asal bir sayi değildir\")"
   ]
  },
  {
   "cell_type": "code",
   "execution_count": null,
   "metadata": {},
   "outputs": [],
   "source": []
  }
 ],
 "metadata": {
  "kernelspec": {
   "display_name": "Python 3.11.0 64-bit",
   "language": "python",
   "name": "python3"
  },
  "language_info": {
   "codemirror_mode": {
    "name": "ipython",
    "version": 3
   },
   "file_extension": ".py",
   "mimetype": "text/x-python",
   "name": "python",
   "nbconvert_exporter": "python",
   "pygments_lexer": "ipython3",
   "version": "3.11.0"
  },
  "orig_nbformat": 4,
  "vscode": {
   "interpreter": {
    "hash": "27a3c722d07504c2b02014c8c75a5e194ac8adbcd4ae880769306ad56b6ffbc9"
   }
  }
 },
 "nbformat": 4,
 "nbformat_minor": 2
}
